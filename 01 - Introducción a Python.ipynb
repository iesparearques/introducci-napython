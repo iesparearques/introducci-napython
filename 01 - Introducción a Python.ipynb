{
 "cells": [
  {
   "attachments": {},
   "cell_type": "markdown",
   "metadata": {},
   "source": [
    "# Introducción a Python\n",
    "\n",
    "El objetivo de este tema es familiarizarse con los conceptos básicos de la programación utilizando el lenguaje de programación Python. Se abordarán los siguientes conceptos:\n",
    "\n",
    "* **Constates y variables**: Aprender a declarar y utilizar variables en un programa de Python.\n",
    "* **Tipos y estructuras de datos**: Aprender sobre los diferentes tipos de datos en Python, incluyendo enteros, flotantes, cadenas y listas.\n",
    "* **Operaciones y operadores**: Aprender a realizar operaciones aritméticas básicas en Python y a utilizar operadores lógicos.\n",
    "* **Estructuras de control**: Aprender a utilizar estructuras de control de flujo, como los bucles y las condicionales, para controlar la ejecución de un programa.\n",
    "* **Funciones y procedimientos**: Aprender a crear y llamar a funciones y procedimientos en Python para reutilizar código y mejorar la organización del programa.\n",
    "\n",
    "Algunos ejemplos de código que se pueden utilizar para ilustrar estos conceptos son:\n",
    "\n",
    "Constates y variables:"
   ]
  },
  {
   "cell_type": "code",
   "execution_count": 5,
   "metadata": {},
   "outputs": [
    {
     "name": "stdout",
     "output_type": "stream",
     "text": [
      "Mi nombre es Juan\n",
      "Tengo 22 años\n"
     ]
    }
   ],
   "source": [
    "# Declaración de una variable\n",
    "nombre = \"Juan\"\n",
    "edad = 22\n",
    "\n",
    "# Imprimir el valor de una variable\n",
    "print(\"Mi nombre es\", nombre)\n",
    "print(\"Tengo\", edad, \"años\")"
   ]
  },
  {
   "attachments": {},
   "cell_type": "markdown",
   "metadata": {},
   "source": [
    "* Tipos y estructuras de datos:"
   ]
  },
  {
   "cell_type": "code",
   "execution_count": 6,
   "metadata": {},
   "outputs": [
    {
     "name": "stdout",
     "output_type": "stream",
     "text": [
      "El segundo estudiante es Pedro\n"
     ]
    }
   ],
   "source": [
    "# Creación de una lista\n",
    "estudiantes = [\"Juan\", \"Pedro\", \"Ana\"]\n",
    "\n",
    "# Imprimir un elemento de la lista\n",
    "print(\"El segundo estudiante es\", estudiantes[1])"
   ]
  },
  {
   "attachments": {},
   "cell_type": "markdown",
   "metadata": {},
   "source": [
    "* Operaciones y Operadores:"
   ]
  },
  {
   "cell_type": "code",
   "execution_count": 7,
   "metadata": {},
   "outputs": [
    {
     "name": "stdout",
     "output_type": "stream",
     "text": [
      "La suma es 5\n",
      "El resultado de la operación es mayor o igual a 18: True\n"
     ]
    }
   ],
   "source": [
    "# Realización de operaciones aritméticas\n",
    "suma = 2 + 3\n",
    "resta = 5 - 2\n",
    "multiplicacion = 4 * 3\n",
    "division = 6 / 2\n",
    "\n",
    "# Uso de operadores lógicos\n",
    "es_mayor_edad = edad >= 18\n",
    "\n",
    "# Imprimir resultados\n",
    "print(\"La suma es\", suma)\n",
    "print(\"El resultado de la operación es mayor o igual a 18:\", es_mayor_edad)"
   ]
  },
  {
   "attachments": {},
   "cell_type": "markdown",
   "metadata": {},
   "source": [
    "* Estructuras de control:"
   ]
  },
  {
   "cell_type": "code",
   "execution_count": null,
   "metadata": {},
   "outputs": [],
   "source": [
    "# Ejemplo de un bucle for\n",
    "for i in range(10):\n",
    "    print(\"Iteración\", i)\n",
    "\n",
    "# Ejemplo de una condicional\n",
    "if edad >= 18:\n",
    "    print(\"Eres mayor de edad\")\n",
    "else:\n",
    "    print(\"Eres menor de edad\")"
   ]
  },
  {
   "attachments": {},
   "cell_type": "markdown",
   "metadata": {},
   "source": [
    "* Funciones y Procedimientos"
   ]
  },
  {
   "cell_type": "code",
   "execution_count": 8,
   "metadata": {},
   "outputs": [
    {
     "name": "stdout",
     "output_type": "stream",
     "text": [
      "8\n"
     ]
    }
   ],
   "source": [
    "def suma(i,j):\n",
    "    return i+j\n",
    "\n",
    "print(suma(3,5))"
   ]
  }
 ],
 "metadata": {
  "kernelspec": {
   "display_name": "Python 3",
   "language": "python",
   "name": "python3"
  },
  "language_info": {
   "codemirror_mode": {
    "name": "ipython",
    "version": 3
   },
   "file_extension": ".py",
   "mimetype": "text/x-python",
   "name": "python",
   "nbconvert_exporter": "python",
   "pygments_lexer": "ipython3",
   "version": "3.11.1 (main, Dec 23 2022, 09:40:27) [Clang 14.0.0 (clang-1400.0.29.202)]"
  },
  "orig_nbformat": 4,
  "vscode": {
   "interpreter": {
    "hash": "1a1af0ee75eeea9e2e1ee996c87e7a2b11a0bebd85af04bb136d915cefc0abce"
   }
  }
 },
 "nbformat": 4,
 "nbformat_minor": 2
}
