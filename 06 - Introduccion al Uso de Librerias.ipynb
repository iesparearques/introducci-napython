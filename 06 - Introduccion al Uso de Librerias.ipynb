{
 "cells": [
  {
   "attachments": {},
   "cell_type": "markdown",
   "metadata": {},
   "source": [
    "# Introducción al uso de Librerías\n",
    "\n",
    "Las librerías en Python son colecciones de funciones y módulos predefinidos que se pueden utilizar para extender las capacidades del lenguaje. Las librerías son fundamentales para la programación en Python ya que permiten a los desarrolladores reutilizar código y ahorrar tiempo.\n",
    "\n",
    "La sintaxis básica para importar una librería en Python es la siguiente:\n",
    "\n",
    "```python\n",
    "import library_name\n",
    "```\n",
    "\n",
    "Por ejemplo, la librería \"math\" de Python proporciona funciones matemáticas comunes, como la raíz cuadrada y las funciones trigonométricas. Para utilizar esta librería, se puede importar de la siguiente manera:\n",
    "\n",
    "```\n",
    "import math\n",
    "```\n",
    "\n",
    "Una vez que se ha importado una librería, se pueden llamar a sus funciones utilizando la sintaxis `libreria.funcion()`. Por ejemplo, para calcular la raíz cuadrada de un número, se puede utilizar la función sqrt de la librería math:\n",
    "\n",
    "```python\n",
    "import math\n",
    "\n",
    "x = 16\n",
    "raiz_cuadrada = math.sqrt(x)\n",
    "\n",
    "print(raiz_cuadrada) # 4.0\n",
    "```\n",
    "\n",
    "Además de importar una librería completa, también es posible importar una función específica de una librería utilizando la sintaxis \"from libreria import funcion\". Por ejemplo, para importar solo la función sqrt de la librería math, se puede utilizar la siguiente sintaxis:\n",
    "\n",
    "```python\n",
    "from math import sqrt\n",
    "\n",
    "x = 16\n",
    "raiz_cuadrada = sqrt(x)\n",
    "\n",
    "print(raiz_cuadrada) # 4.0\n",
    "```\n",
    "\n",
    "Es importante tener en cuenta que, cuando se importa una función específica de una librería, se puede renombrar la función utilizando la sintaxis `as nuevo_nombre`. Por ejemplo, para importar la función `sqrt` de la librería math y renombrarla como `raiz`, se puede utilizar la siguiente sintaxis:\n",
    "\n",
    "```python\n",
    "from math import sqrt as raiz\n",
    "\n",
    "x = 16\n",
    "raiz_cuadrada = raiz(x)\n",
    "\n",
    "print(raiz_cuadrada) # 4.0\n",
    "```\n",
    "\n",
    "En resumen, las librerías son fundamentales para la programación en Python, ya que proporcionan funciones y módulos predefinidos que se pueden utilizar para extender las capacidades del lenguaje. La sintaxis para importar y utilizar librerías y funciones en Python es simple y fácil de usar, lo que permite a los desarrolladores ahorrar tiempo y esfuerzo en la programación."
   ]
  }
 ],
 "metadata": {
  "kernelspec": {
   "display_name": "Python 3",
   "language": "python",
   "name": "python3"
  },
  "language_info": {
   "name": "python",
   "version": "3.11.2"
  },
  "orig_nbformat": 4,
  "vscode": {
   "interpreter": {
    "hash": "e4f73847c287cd293586ad0d22a16534048a93d7a557aef64fbf2ed64d21bfbf"
   }
  }
 },
 "nbformat": 4,
 "nbformat_minor": 2
}
