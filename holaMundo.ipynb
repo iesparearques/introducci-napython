{
 "cells": [
  {
   "attachments": {},
   "cell_type": "markdown",
   "metadata": {},
   "source": [
    "# Introducción a las Variables y Operaciones Simples\n",
    "\n",
    "En Python, las variables son utilizadas para almacenar datos. En este código, hay dos secciones que utilizan diferentes tipos de variables.\n",
    "\n",
    "## Suma de Enteros\n",
    "\n",
    "Esta sección se refiere a variables de tipo entero, que son aquellas que almacenan números enteros (sin decimales). En esta sección se establecen dos variables llamadas `entero1` y `entero2` y se les asignan los valores 1 y 2, respectivamente. Luego, se establece una nueva variable entero3 que es la suma de entero1 y entero2, es decir `entero3 = entero1 + entero2`. \n",
    "\n",
    "Finalmente, utiliza la función `print` para imprimir el valor de `entero3` y el tipo de datos de `entero3` utilizando la función `type`. El tipo de datos de `entero3` será `int`."
   ]
  },
  {
   "cell_type": "code",
   "execution_count": 1,
   "metadata": {},
   "outputs": [
    {
     "name": "stdout",
     "output_type": "stream",
     "text": [
      "3\n",
      "<class 'int'>\n"
     ]
    }
   ],
   "source": [
    "entero1 = 1\n",
    "entero2 = 2\n",
    "entero3 = entero1 + entero2\n",
    "\n",
    "print(entero3)\n",
    "print(type(entero3))"
   ]
  },
  {
   "attachments": {},
   "cell_type": "markdown",
   "metadata": {},
   "source": [
    "## Concatenación de frases\n",
    "\n",
    "En esta sección se establecen dos variables llamadas `mensaje` y \"nombre\" y se les asignan los valores \"Hola \" y \"Arturo\", respectivamente. Luego, se establece una nueva variable `frase` que es la concatenación de `mensaje` y `nombre`, es decir `frase = mensaje + nombre`. Finalmente, utiliza la función `print` para imprimir el valor de `frase` y el tipo de datos de `frase` utilizando la función \"type\". El tipo de datos de `frase` será `str (string)`."
   ]
  },
  {
   "cell_type": "code",
   "execution_count": 2,
   "metadata": {},
   "outputs": [
    {
     "name": "stdout",
     "output_type": "stream",
     "text": [
      "Hola Arturo\n",
      "<class 'str'>\n"
     ]
    }
   ],
   "source": [
    "mensaje = \"Hola \"\n",
    "nombre = \"Arturo\"\n",
    "frase = mensaje + nombre\n",
    "\n",
    "print(frase)\n",
    "print(type(frase))"
   ]
  },
  {
   "attachments": {},
   "cell_type": "markdown",
   "metadata": {},
   "source": [
    "# ¿Qué hemos visto?\n",
    "\n",
    "En este código se utilizan los siguientes operadores:\n",
    "\n",
    "* `+`: este operador se utiliza para sumar dos valores o variables. Es utilizado en la primera sección para sumar las variables entero1 y entero2 y almacenar el resultado en entero3\n",
    "* `+`: este operador también se utiliza para concatenar dos valores o variables. Es utilizado en la segunda sección para concatenar las variables mensaje y nombre y almacenar el resultado en frase\n",
    "\n",
    "En este código se utilizan las siguientes funciones:\n",
    "\n",
    "* `print()`: esta función se utiliza para imprimir en pantalla un valor o variable. [Documentación de python](https://docs.python.org/3/library/functions.html#print)\n",
    "* `type()`: esta función se utiliza para determinar el tipo de datos de una variable. [Documentación de python](https://docs.python.org/3/library/functions.html#type)\n",
    "\n",
    "En resumen, este código ilustra cómo se pueden crear variables en Python, asignarles valores y utilizarlos para realizar operaciones simples, como sumar y concatenar con los operadores `+` (`+` es un operador **sobrecargado**) además de verificar el tipo de datos de una variable utilizando la función `type()` y imprimir los valores y tipos de datos con la función `print()`. Los operadores son importantes para realizar operaciones matemáticas y lógicas en Python, y en este código se utilizan para sumar dos variables enteras y concatenar dos variables de tipo texto.\n",
    "\n",
    "También hemos visto qué ocurre al utilizar el operador `+` para parámetros distintos pero **compatibles** como puede ser un `float` y un `int` que los acaba sumando y el resultado es un `float` para que el resultado no pierda precisión.\n",
    "\n",
    "En el caso de utilizar el operador `+` para sumar un `str` a un `int` dará un error porque es incompatible en el sentido de que esa **sobrecarga** no está implementada en python"
   ]
  }
 ],
 "metadata": {
  "kernelspec": {
   "display_name": "Python 3",
   "language": "python",
   "name": "python3"
  },
  "language_info": {
   "codemirror_mode": {
    "name": "ipython",
    "version": 3
   },
   "file_extension": ".py",
   "mimetype": "text/x-python",
   "name": "python",
   "nbconvert_exporter": "python",
   "pygments_lexer": "ipython3",
   "version": "3.11.1"
  },
  "orig_nbformat": 4,
  "vscode": {
   "interpreter": {
    "hash": "1a1af0ee75eeea9e2e1ee996c87e7a2b11a0bebd85af04bb136d915cefc0abce"
   }
  }
 },
 "nbformat": 4,
 "nbformat_minor": 2
}
