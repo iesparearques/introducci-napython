{
 "cells": [
  {
   "attachments": {},
   "cell_type": "markdown",
   "metadata": {},
   "source": [
    "# 5 - Funciones y Procedimientos\n",
    "\n",
    "## Introducción:\n",
    "\n",
    "Las funciones y procedimientos son una parte importante de la programación en Python. Permiten dividir el código en piezas más manejables, haciéndolo más fácil de leer y mantener. Las funciones y procedimientos son similares, pero las funciones devuelven un valor, mientras que los procedimientos no lo hacen.\n",
    "\n",
    "Ejemplos:\n",
    "\n",
    "Definición de función:"
   ]
  },
  {
   "cell_type": "code",
   "execution_count": 1,
   "metadata": {},
   "outputs": [],
   "source": [
    "def suma(a, b):\n",
    "  return a + b"
   ]
  },
  {
   "attachments": {},
   "cell_type": "markdown",
   "metadata": {},
   "source": [
    "Definición de procedimiento"
   ]
  },
  {
   "cell_type": "code",
   "execution_count": 2,
   "metadata": {},
   "outputs": [],
   "source": [
    "def imprime_hola():\n",
    "  print(\"Hola\")"
   ]
  },
  {
   "attachments": {},
   "cell_type": "markdown",
   "metadata": {},
   "source": [
    "Llamada a función:"
   ]
  },
  {
   "cell_type": "code",
   "execution_count": 3,
   "metadata": {},
   "outputs": [
    {
     "name": "stdout",
     "output_type": "stream",
     "text": [
      "3\n"
     ]
    }
   ],
   "source": [
    "resultado = suma(1, 2)\n",
    "print(resultado)"
   ]
  },
  {
   "attachments": {},
   "cell_type": "markdown",
   "metadata": {},
   "source": [
    "Llamada a Procedimiento:"
   ]
  },
  {
   "cell_type": "code",
   "execution_count": 4,
   "metadata": {},
   "outputs": [
    {
     "name": "stdout",
     "output_type": "stream",
     "text": [
      "Hola\n"
     ]
    }
   ],
   "source": [
    "imprime_hola()"
   ]
  },
  {
   "attachments": {},
   "cell_type": "markdown",
   "metadata": {},
   "source": [
    "Actividades:\n",
    "\n",
    "* Actividad 1: Crea una función que calcule la suma de dos números y un procedimiento que imprima \"Hola mundo\". Luego llama a ambas funciones.\n",
    "* Actividad 2: Crea una función que calcule el promedio de tres números y un procedimiento que imprima \"Adiós mundo\". Luego llama a ambas funciones.\n",
    "\n",
    "## Conclusión:\n",
    "\n",
    "Las funciones y procedimientos son una herramienta valiosa para la programación en Python. Te permiten hacer que tu código sea más claro, legible y fácil de mantener. Al dividir tu código en pequeñas piezas, puedes a\n",
    "\n",
    "segurarte de que cada pieza sea responsable de una tarea específica, lo que hace que sea más fácil de depurar y mejorar. A medida que continúes desarrollando tus habilidades en Python, es importante aprender a usar funciones y procedimientos de manera efectiva para asegurarte de que tu código sea organizado y fácil de mantener."
   ]
  }
 ],
 "metadata": {
  "kernelspec": {
   "display_name": "Python 3",
   "language": "python",
   "name": "python3"
  },
  "language_info": {
   "codemirror_mode": {
    "name": "ipython",
    "version": 3
   },
   "file_extension": ".py",
   "mimetype": "text/x-python",
   "name": "python",
   "nbconvert_exporter": "python",
   "pygments_lexer": "ipython3",
   "version": "3.11.1 (main, Dec 23 2022, 09:40:27) [Clang 14.0.0 (clang-1400.0.29.202)]"
  },
  "orig_nbformat": 4,
  "vscode": {
   "interpreter": {
    "hash": "1a1af0ee75eeea9e2e1ee996c87e7a2b11a0bebd85af04bb136d915cefc0abce"
   }
  }
 },
 "nbformat": 4,
 "nbformat_minor": 2
}
