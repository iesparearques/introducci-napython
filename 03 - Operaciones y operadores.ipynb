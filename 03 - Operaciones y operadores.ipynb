{
 "cells": [
  {
   "attachments": {},
   "cell_type": "markdown",
   "metadata": {},
   "source": [
    "# 3 - Operacions y Operadores\n",
    "\n",
    "## Introducción a las Operaciones\n",
    "\n",
    "Las operaciones son una acción que realiza el programa para modificar o utilizar los valores almacenados en las variables. Python ofrece una amplia gama de operaciones que permiten realizar tareas matemáticas, de comparación, asignación y muchas más.\n",
    "\n",
    "## Operaciones Matemáticas\n",
    "\n",
    "Las operaciones matemáticas incluyen suma, resta, multiplicación, división, potenciación, módulo y raíz cuadrada. Por ejemplo:"
   ]
  },
  {
   "cell_type": "code",
   "execution_count": 2,
   "metadata": {},
   "outputs": [],
   "source": [
    "a = 5\n",
    "b = 3\n",
    "suma = a + b\n",
    "resta = a - b\n",
    "multiplicacion = a * b\n",
    "division = a / b\n",
    "potencia = a ** b\n",
    "modulo = a % b"
   ]
  },
  {
   "attachments": {},
   "cell_type": "markdown",
   "metadata": {},
   "source": [
    "## Operadores de Comparación \n",
    "\n",
    "Los operadores de comparación son utilizados para comparar dos valores y devolver un valor booleano de True o False. Estos operadores incluyen igual que (==), no igual que (!=), mayor que (>), menor que (<), mayor o igual que (>=) y menor o igual que (<=). Por ejemplo:"
   ]
  },
  {
   "cell_type": "code",
   "execution_count": 3,
   "metadata": {},
   "outputs": [],
   "source": [
    "a = 5\n",
    "b = 3\n",
    "es_igual = a == b\n",
    "no_es_igual = a != b\n",
    "es_mayor = a > b\n",
    "es_menor = a < b\n",
    "es_mayor_igual = a >= b\n",
    "es_menor_igual = a <= b"
   ]
  },
  {
   "attachments": {},
   "cell_type": "markdown",
   "metadata": {},
   "source": [
    "## Operadores Lógicos\n",
    "\n",
    "Los operadores lógicos permiten combinar expresiones booleanas y obtener un valor booleano resultante. Estos operadores incluyen and, or y not. Por ejemplo:"
   ]
  },
  {
   "cell_type": "code",
   "execution_count": 4,
   "metadata": {},
   "outputs": [],
   "source": [
    "a = True\n",
    "b = False\n",
    "and_result = a and b\n",
    "or_result = a or b\n",
    "not_result = not a"
   ]
  },
  {
   "attachments": {},
   "cell_type": "markdown",
   "metadata": {},
   "source": [
    "## Ejercicios\n",
    "\n",
    "1. Realiza 5 operaciones matemáticas con dos números y almacena el resultado en una variable que identifique cada tipo de operación\n",
    "2. Compara dos números y almacene el resultado en una variable booleana.\n",
    "3. Combina dos expresiones booleanas utilizando los operadores lógicos.\n",
    "4. Escribe un programa que pida al usuario dos números y calcule su suma, resta, multiplicación, división, potencia y módulo.\n",
    "5. Escribe un programa que pida al usuario dos números y determine si el primero es mayor, menor o igual al segundo.\n",
    "6. Escribe un programa que determine si un número es par o impar."
   ]
  }
 ],
 "metadata": {
  "kernelspec": {
   "display_name": "Python 3",
   "language": "python",
   "name": "python3"
  },
  "language_info": {
   "codemirror_mode": {
    "name": "ipython",
    "version": 3
   },
   "file_extension": ".py",
   "mimetype": "text/x-python",
   "name": "python",
   "nbconvert_exporter": "python",
   "pygments_lexer": "ipython3",
   "version": "3.11.1 (main, Dec 23 2022, 09:40:27) [Clang 14.0.0 (clang-1400.0.29.202)]"
  },
  "orig_nbformat": 4,
  "vscode": {
   "interpreter": {
    "hash": "1a1af0ee75eeea9e2e1ee996c87e7a2b11a0bebd85af04bb136d915cefc0abce"
   }
  }
 },
 "nbformat": 4,
 "nbformat_minor": 2
}
