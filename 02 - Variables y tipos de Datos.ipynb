{
 "cells": [
  {
   "attachments": {},
   "cell_type": "markdown",
   "metadata": {},
   "source": [
    "# 2 - Introducción a las Variables y Tipos de Datos\n",
    "\n",
    "\n",
    "En el apartado 2, se cubre el tema de variables y tipos de datos en Python. \n",
    "\n",
    "\n",
    "### Variables\n",
    "\n",
    "Las variables son uno de los elementos más importantes en la programación, ya que permiten almacenar y manipular datos en un programa. Una variable es un nombre asignado a un valor específico, el cual puede ser modificado durante la ejecución del programa.\n",
    "\n",
    "Ejemplos:\n",
    "\n",
    "Para ilustrar el uso de las variables, consideremos el siguiente ejemplo en Python:\n"
   ]
  },
  {
   "cell_type": "code",
   "execution_count": 5,
   "metadata": {},
   "outputs": [
    {
     "name": "stdout",
     "output_type": "stream",
     "text": [
      "Hola, mi nombre es Juan\n",
      "Ahora mi nombre es Pedro\n"
     ]
    }
   ],
   "source": [
    "# Asignación de un valor a una variable\n",
    "nombre = \"Juan\"\n",
    "\n",
    "# Uso de la variable\n",
    "print(\"Hola, mi nombre es\", nombre)\n",
    "\n",
    "# Modificación del valor de la variable\n",
    "nombre = \"Pedro\"\n",
    "\n",
    "# Uso de la variable modificada\n",
    "print(\"Ahora mi nombre es\", nombre)"
   ]
  },
  {
   "attachments": {},
   "cell_type": "markdown",
   "metadata": {},
   "source": [
    "En este ejemplo, se ha creado una variable llamada nombre y se le ha asignado el valor \"Juan\". Luego, se ha utilizado la variable en una sentencia print para imprimir un mensaje en la pantalla. Finalmente, se ha modificado el valor de la variable y se ha vuelto a utilizar en otra sentencia print.\n",
    "\n",
    "Temas esenciales:\n",
    "\n",
    "* **Nombres válidos para variables:** en Python, los nombres de las variables deben cumplir ciertas reglas, como empezar con una letra o un guión bajo y contener solo letras, números y guiones bajos.\n",
    "* **Asignación de valores:** para asignar un valor a una variable, se utiliza el signo igual =.\n",
    "* **Tipos de datos:** existen diferentes tipos de datos en Python, como números (enteros, flotantes), cadenas de texto (str) y valores booleanos (True o False).\n",
    "* **Conversión de tipos:** es posible convertir un valor de un tipo de dato a otro, por ejemplo, convertir un número a una cadena o viceversa.\n",
    "* **Actividades prácticas:**\n",
    "\n",
    "  1. Crea variables con diferentes tipos de datos y experimenta con las operaciones básicas (suma, resta, multiplicación, etc.).\n",
    "  2. Crea un programa que le pida al usuario su nombre y edad, y los imprima en un mensaje personalizado.\n",
    "  3. Crea un programa que calcule el área y perímetro de un rectángulo a partir de las medidas ingresadas por el usuario.\n",
    "  4. Crea un programa que convierta una cantidad de dólares a euros y viceversa, según la opción elegida por el usuario.\n",
    "  5. Estas actividades son solo una"
   ]
  },
  {
   "attachments": {},
   "cell_type": "markdown",
   "metadata": {},
   "source": [
    "## Tipos de Datos\n",
    "\n",
    "En este apartado se describen los diferentes tipos de datos que se pueden utilizar en Python. Algunos de los tipos más comunes son:\n",
    "\n",
    "* Enteros (int): Números sin parte decimal. Ejemplo: 10, -3, 0.\n",
    "* Flotantes (float): Números con parte decimal. Ejemplo: 3.14, -0.5, 1.0.\n",
    "* Cadenas (str): Secuencias de caracteres. Ejemplo: \"Hola\", \"Programación\", \"123\".\n",
    "* Listas (list): Colecciones de valores. Ejemplo: [1, 2, 3], [\"a\", \"b\", \"c\"], [3.14, 2.7].\n",
    "* Diccionarios (dict): Colecciones de valores con claves únicas. Ejemplo: {\"nombre\": \"Juan\", \"edad\": 30}, {\"producto\": \"Lápiz\", \"precio\": 1.5}.\n",
    "* Tuplas (tuple): Colecciones inmutables de valores. Ejemplo: (1, 2, 3), (\"a\", \"b\", \"c\"), (3.14, 2.7).\n",
    "* Conjuntos (set): Colecciones de valores únicos. Ejemplo: {1, 2, 3}, {\"a\", \"b\", \"c\"}, {3.14, 2.7}.\n",
    "* Booleanos (bool): Valores que pueden ser verdadero o falso. Ejemplo: True, False.*\n",
    "\n",
    "A continuación se presentan algunos ejemplos de asignación de valores a variables con diferentes tipos de datos:"
   ]
  },
  {
   "cell_type": "code",
   "execution_count": 6,
   "metadata": {},
   "outputs": [],
   "source": [
    "# Asignación de un entero a una variable\n",
    "edad = 25\n",
    "\n",
    "# Asignación de un flotante a una variable\n",
    "pi = 3.14\n",
    "\n",
    "# Asignación de una cadena a una variable\n",
    "nombre = \"Juan\"\n",
    "\n",
    "# Asignación de una lista a una variable\n",
    "notas = [7, 8, 9, 10]\n",
    "\n",
    "# Asignación de un diccionario a una variable\n",
    "persona = {\"nombre\": \"Juan\", \"edad\": 25}\n",
    "\n",
    "# Asignación de una tupla a una variable\n",
    "puntos = (1, 2, 3)\n",
    "\n",
    "# Asignación de un conjunto a una variable\n",
    "letras = {\"a\", \"b\", \"c\"}\n",
    "\n",
    "# Asignación de un booleano a una variable\n",
    "es_mayor_edad = True\n"
   ]
  },
  {
   "attachments": {},
   "cell_type": "markdown",
   "metadata": {},
   "source": [
    "Es importante tener en cuenta que Python es un lenguaje dinámico, por lo que no es necesario declarar el tipo de una variable antes de usarla. La asignación de un valor a una variable determina el tipo de datos que se utilizará en esa variable."
   ]
  }
 ],
 "metadata": {
  "kernelspec": {
   "display_name": "Python 3",
   "language": "python",
   "name": "python3"
  },
  "language_info": {
   "codemirror_mode": {
    "name": "ipython",
    "version": 3
   },
   "file_extension": ".py",
   "mimetype": "text/x-python",
   "name": "python",
   "nbconvert_exporter": "python",
   "pygments_lexer": "ipython3",
   "version": "3.11.1 (main, Dec 23 2022, 09:40:27) [Clang 14.0.0 (clang-1400.0.29.202)]"
  },
  "orig_nbformat": 4,
  "vscode": {
   "interpreter": {
    "hash": "1a1af0ee75eeea9e2e1ee996c87e7a2b11a0bebd85af04bb136d915cefc0abce"
   }
  }
 },
 "nbformat": 4,
 "nbformat_minor": 2
}
