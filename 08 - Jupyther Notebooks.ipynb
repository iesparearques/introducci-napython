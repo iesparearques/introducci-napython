{
 "cells": [
  {
   "attachments": {},
   "cell_type": "markdown",
   "metadata": {},
   "source": [
    "# Jupyther Notebooks\n",
    "\n",
    "## Introducción\n",
    "\n",
    "Está sección se encuentra en construcción, por favor accede a la documentación oficial <https://code.visualstudio.com/docs/datascience/jupyter-notebooks> \n",
    "\n",
    "Disculpa las molestias :bamboo: "
   ]
  }
 ],
 "metadata": {
  "kernelspec": {
   "display_name": "Python 3",
   "language": "python",
   "name": "python3"
  },
  "language_info": {
   "name": "python",
   "version": "3.11.2"
  },
  "orig_nbformat": 4,
  "vscode": {
   "interpreter": {
    "hash": "e4f73847c287cd293586ad0d22a16534048a93d7a557aef64fbf2ed64d21bfbf"
   }
  }
 },
 "nbformat": 4,
 "nbformat_minor": 2
}
