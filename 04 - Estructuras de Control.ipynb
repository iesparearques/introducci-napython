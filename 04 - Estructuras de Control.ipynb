{
 "cells": [
  {
   "attachments": {},
   "cell_type": "markdown",
   "metadata": {},
   "source": [
    "# 4 - Estructuras de Control\n",
    "\n",
    "El apartado 3 \"Estructuras de control\" es una parte crucial de la programación que permite controlar el flujo de un programa. Hay varias estructuras de control en Python, cada una de ellas permite ejecutar ciertas acciones o grupos de acciones en función de ciertas condiciones. Estas estructuras incluyen:\n",
    "\n",
    "## Condicionales\n",
    "\n",
    "Permiten ejecutar un bloque de código si se cumple una determinada condición.\n",
    "\n",
    "Ejemplo:"
   ]
  },
  {
   "cell_type": "code",
   "execution_count": 4,
   "metadata": {},
   "outputs": [
    {
     "name": "stdout",
     "output_type": "stream",
     "text": [
      "El número 6 es positivo\n"
     ]
    }
   ],
   "source": [
    "x = int(input(\"Ingrese un número: \"))\n",
    "if x > 0:\n",
    "    print(f\"El número {x} es positivo\")\n",
    "elif x < 0:\n",
    "    print(f\"El número {x} es negativo\")\n",
    "else:\n",
    "    print(f\"El número {x} es cero\")"
   ]
  },
  {
   "attachments": {},
   "cell_type": "markdown",
   "metadata": {},
   "source": [
    "## Bucle While\n",
    "\n",
    "El Bucle While permite ejecutar un bloque de código repetidamente mientras se cumpla una determinada condición.\n",
    "\n",
    "Ejemplo:"
   ]
  },
  {
   "cell_type": "code",
   "execution_count": 7,
   "metadata": {},
   "outputs": [
    {
     "name": "stdout",
     "output_type": "stream",
     "text": [
      "4\n",
      "3\n",
      "2\n",
      "1\n",
      "0\n"
     ]
    }
   ],
   "source": [
    "x = int(input(\"Ingrese un número: \"))\n",
    "while x >= 0:\n",
    "    print(x)\n",
    "    x -= 1"
   ]
  },
  {
   "attachments": {},
   "cell_type": "markdown",
   "metadata": {},
   "source": [
    "## Bucle For \n",
    "\n",
    "El bucle for permite ejecutar un bloque de código para cada elemento de una lista o secuencia.\n",
    "\n",
    "Ejemplo:"
   ]
  },
  {
   "cell_type": "code",
   "execution_count": 6,
   "metadata": {},
   "outputs": [
    {
     "name": "stdout",
     "output_type": "stream",
     "text": [
      "manzana\n",
      "banana\n",
      "pera\n"
     ]
    }
   ],
   "source": [
    "frutas = ['manzana', 'banana', 'pera']\n",
    "for fruta in frutas:\n",
    "    print(fruta)"
   ]
  },
  {
   "attachments": {},
   "cell_type": "markdown",
   "metadata": {},
   "source": [
    "En otros lenguajes de programación, utilizamos el bucle for para iterar a través de una lista de números, normalmente des de el 1 o el 0 hasta el número al que queramos acceder. Para realizar este tipo de iteración, en python hemos de utilizar la función `range` que es la encargada de devolver valores. Tiene varias sobre cargas, es decir, según los parámetros que le pasemos tendrá un comportamiento distinto, pero en el caso de utilizarla sólo con un entero, quivaldrá a la sentencia desde 0 hasta n-1:"
   ]
  },
  {
   "cell_type": "code",
   "execution_count": 1,
   "metadata": {},
   "outputs": [
    {
     "name": "stdout",
     "output_type": "stream",
     "text": [
      "0\n",
      "1\n",
      "2\n",
      "3\n",
      "4\n"
     ]
    }
   ],
   "source": [
    "for i in range(5):\n",
    "    print (i)"
   ]
  },
  {
   "attachments": {},
   "cell_type": "markdown",
   "metadata": {},
   "source": [
    "Es importante comprender y aplicar estas estructuras de control de manera efectiva, ya que les permiten crear programas más complejos y flexibles. Se pueden incluir ejercicios que les permitan poner en práctica lo aprendido, por ejemplo:\n",
    "\n",
    "1. Escribir un programa que calcule la suma de los primeros n números enteros positivos utilizando un bucle for.\n",
    "2. Crear un programa que determine si un número es primo o no.\n",
    "3. Escribir un programa que convierta una lista de temperaturas en grados Celsius a grados Fahrenheit utilizando un bucle for.\n",
    "\n",
    "Estas actividades permiten aplicar los conceptos y mejorar su comprensión de las estructuras de control."
   ]
  }
 ],
 "metadata": {
  "kernelspec": {
   "display_name": "Python 3",
   "language": "python",
   "name": "python3"
  },
  "language_info": {
   "codemirror_mode": {
    "name": "ipython",
    "version": 3
   },
   "file_extension": ".py",
   "mimetype": "text/x-python",
   "name": "python",
   "nbconvert_exporter": "python",
   "pygments_lexer": "ipython3",
   "version": "3.11.1"
  },
  "orig_nbformat": 4,
  "vscode": {
   "interpreter": {
    "hash": "1a1af0ee75eeea9e2e1ee996c87e7a2b11a0bebd85af04bb136d915cefc0abce"
   }
  }
 },
 "nbformat": 4,
 "nbformat_minor": 2
}
